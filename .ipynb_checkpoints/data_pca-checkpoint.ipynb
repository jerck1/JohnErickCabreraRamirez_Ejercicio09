{
 "cells": [
  {
   "cell_type": "code",
   "execution_count": 81,
   "metadata": {},
   "outputs": [],
   "source": [
    "import numpy as np\n",
    "import pandas as pd\n",
    "import matplotlib.pyplot as plt\n",
    "import sklearn.linear_model\n",
    "#estandarizacion:\n",
    "import sklearn.preprocessing \n",
    "from numpy import linalg as LA\n",
    "%matplotlib inline"
   ]
  },
  {
   "cell_type": "code",
   "execution_count": 63,
   "metadata": {},
   "outputs": [],
   "source": [
    "data = pd.read_csv('USArrests.csv')\n",
    "data2 = pd.read_csv('Cars93.csv')"
   ]
  },
  {
   "cell_type": "code",
   "execution_count": 94,
   "metadata": {},
   "outputs": [
    {
     "data": {
      "text/plain": [
       "array([[ 13.2, 236. ,  58. ,  21.2],\n",
       "       [ 10. , 263. ,  48. ,  44.5],\n",
       "       [  8.1, 294. ,  80. ,  31. ],\n",
       "       [  8.8, 190. ,  50. ,  19.5],\n",
       "       [  9. , 276. ,  91. ,  40.6],\n",
       "       [  7.9, 204. ,  78. ,  38.7],\n",
       "       [  3.3, 110. ,  77. ,  11.1],\n",
       "       [  5.9, 238. ,  72. ,  15.8],\n",
       "       [ 15.4, 335. ,  80. ,  31.9],\n",
       "       [ 17.4, 211. ,  60. ,  25.8],\n",
       "       [  5.3,  46. ,  83. ,  20.2],\n",
       "       [  2.6, 120. ,  54. ,  14.2],\n",
       "       [ 10.4, 249. ,  83. ,  24. ],\n",
       "       [  7.2, 113. ,  65. ,  21. ],\n",
       "       [  2.2,  56. ,  57. ,  11.3],\n",
       "       [  6. , 115. ,  66. ,  18. ],\n",
       "       [  9.7, 109. ,  52. ,  16.3],\n",
       "       [ 15.4, 249. ,  66. ,  22.2],\n",
       "       [  2.1,  83. ,  51. ,   7.8],\n",
       "       [ 11.3, 300. ,  67. ,  27.8],\n",
       "       [  4.4, 149. ,  85. ,  16.3],\n",
       "       [ 12.1, 255. ,  74. ,  35.1],\n",
       "       [  2.7,  72. ,  66. ,  14.9],\n",
       "       [ 16.1, 259. ,  44. ,  17.1],\n",
       "       [  9. , 178. ,  70. ,  28.2],\n",
       "       [  6. , 109. ,  53. ,  16.4],\n",
       "       [  4.3, 102. ,  62. ,  16.5],\n",
       "       [ 12.2, 252. ,  81. ,  46. ],\n",
       "       [  2.1,  57. ,  56. ,   9.5],\n",
       "       [  7.4, 159. ,  89. ,  18.8],\n",
       "       [ 11.4, 285. ,  70. ,  32.1],\n",
       "       [ 11.1, 254. ,  86. ,  26.1],\n",
       "       [ 13. , 337. ,  45. ,  16.1],\n",
       "       [  0.8,  45. ,  44. ,   7.3],\n",
       "       [  7.3, 120. ,  75. ,  21.4],\n",
       "       [  6.6, 151. ,  68. ,  20. ],\n",
       "       [  4.9, 159. ,  67. ,  29.3],\n",
       "       [  6.3, 106. ,  72. ,  14.9],\n",
       "       [  3.4, 174. ,  87. ,   8.3],\n",
       "       [ 14.4, 279. ,  48. ,  22.5],\n",
       "       [  3.8,  86. ,  45. ,  12.8],\n",
       "       [ 13.2, 188. ,  59. ,  26.9],\n",
       "       [ 12.7, 201. ,  80. ,  25.5],\n",
       "       [  3.2, 120. ,  80. ,  22.9],\n",
       "       [  2.2,  48. ,  32. ,  11.2],\n",
       "       [  8.5, 156. ,  63. ,  20.7],\n",
       "       [  4. , 145. ,  73. ,  26.2],\n",
       "       [  5.7,  81. ,  39. ,   9.3],\n",
       "       [  2.6,  53. ,  66. ,  10.8],\n",
       "       [  6.8, 161. ,  60. ,  15.6]])"
      ]
     },
     "execution_count": 94,
     "metadata": {},
     "output_type": "execute_result"
    }
   ],
   "source": [
    "#print(np.shape(data))\n",
    "#print(data[1:3])\n",
    "columns=data.keys()\n",
    "columns=['Murder', 'Assault', 'UrbanPop', 'Rape']\n",
    "x=np.array(data[columns])#[:,1:]\n",
    "states=np.array(data[columns])[:,0]\n",
    "#print(np.concatenate((x[:,0],x[:,0])))\n",
    "#print(x)\n",
    "#x[:,0]\n",
    "#xx=np.zeros((len(x),4))\n",
    "#for i in range(len(x)):\n",
    " #   for j in range(4):\n",
    "  #      xx[i,j]=x[i,j]\n",
    "#print(x)\n",
    "#x"
   ]
  },
  {
   "cell_type": "code",
   "execution_count": 95,
   "metadata": {},
   "outputs": [
    {
     "name": "stdout",
     "output_type": "stream",
     "text": [
      "(93, 11)\n"
     ]
    }
   ],
   "source": [
    "y2 = np.array(data2['Price'])\n",
    "columns = ['MPG.city', 'MPG.highway', 'EngineSize', 'Horsepower', 'RPM', 'Rev.per.mile', \n",
    "          'Fuel.tank.capacity', 'Length', 'Width', 'Turn.circle', 'Weight']\n",
    "x2 = np.array(data2[columns])\n",
    "#print(x2)\n",
    "print(np.shape(x2))"
   ]
  },
  {
   "cell_type": "code",
   "execution_count": 99,
   "metadata": {},
   "outputs": [],
   "source": [
    "sig1=np.cov(x)\n",
    "sig2=np.cov(x2)"
   ]
  },
  {
   "cell_type": "code",
   "execution_count": 100,
   "metadata": {},
   "outputs": [],
   "source": [
    "w1, v1=LA.eig(sig1)\n",
    "w2, v2=LA.eig(sig2)"
   ]
  },
  {
   "cell_type": "code",
   "execution_count": 117,
   "metadata": {},
   "outputs": [
    {
     "name": "stdout",
     "output_type": "stream",
     "text": [
      "[3.42072890e+05+0.00000000e+00j 9.39560277e+03+0.00000000e+00j\n",
      " 4.23892342e+02+0.00000000e+00j 1.26877020e-11+2.99835202e-12j]\n"
     ]
    }
   ],
   "source": [
    "print(w1[0:4])"
   ]
  },
  {
   "cell_type": "code",
   "execution_count": 144,
   "metadata": {},
   "outputs": [
    {
     "name": "stderr",
     "output_type": "stream",
     "text": [
      "/home/john/anaconda3/lib/python3.7/site-packages/ipykernel_launcher.py:4: ComplexWarning: Casting complex values to real discards the imaginary part\n",
      "  after removing the cwd from sys.path.\n",
      "/home/john/anaconda3/lib/python3.7/site-packages/ipykernel_launcher.py:5: ComplexWarning: Casting complex values to real discards the imaginary part\n",
      "  \"\"\"\n"
     ]
    }
   ],
   "source": [
    "pca_v1=np.ones((2,4))\n",
    "pca_v2=np.ones((2,4))\n",
    "for i in range(2):\n",
    "    pca_v1[i]=v1[i,:4]/LA.norm(v1[i,:4])\n",
    "    pca_v2[i]=v2[i,:4]/LA.norm(v2[i,:4])\n",
    "#pca_v1[:,0]\n",
    "#v1[0,:4]"
   ]
  },
  {
   "cell_type": "code",
   "execution_count": 152,
   "metadata": {},
   "outputs": [
    {
     "data": {
      "text/plain": [
       "<matplotlib.quiver.Quiver at 0x7f2c69043bd0>"
      ]
     },
     "execution_count": 152,
     "metadata": {},
     "output_type": "execute_result"
    },
    {
     "data": {
      "image/png": "[encoded data removed]",
      "text/plain": [
       "<Figure size 432x288 with 1 Axes>"
      ]
     },
     "metadata": {
      "needs_background": "light"
     },
     "output_type": "display_data"
    }
   ],
   "source": [
    "plt.plot()\n",
    "#plt.scatter(X, Y)\n",
    "#plt.scatter(X_scaled[:,3], lasso.predict(X_scaled), marker='^')\n",
    "#plt.xlabel(columns[3])\n",
    "#plt.ylabel('Price')\n",
    "plt.quiver([0, 0], pca_v1[:,0], pca_v1[1,0])\n"
   ]
  },
  {
   "cell_type": "code",
   "execution_count": 125,
   "metadata": {},
   "outputs": [
    {
     "data": {
      "text/plain": [
       "0.9818"
      ]
     },
     "execution_count": 125,
     "metadata": {},
     "output_type": "execute_result"
    }
   ],
   "source": [
    "0.53**2+0.58**2+0.27**2+0.54**2"
   ]
  },
  {
   "cell_type": "code",
   "execution_count": 148,
   "metadata": {},
   "outputs": [
    {
     "data": {
      "text/plain": [
       "-0.7755361149452165"
      ]
     },
     "execution_count": 148,
     "metadata": {},
     "output_type": "execute_result"
    }
   ],
   "source": [
    "pca_v1[0,0]"
   ]
  },
  {
   "cell_type": "code",
   "execution_count": null,
   "metadata": {},
   "outputs": [],
   "source": []
  }
 ],
 "metadata": {
  "kernelspec": {
   "display_name": "Python 3",
   "language": "python",
   "name": "python3"
  },
  "language_info": {
   "codemirror_mode": {
    "name": "ipython",
    "version": 3
   },
   "file_extension": ".py",
   "mimetype": "text/x-python",
   "name": "python",
   "nbconvert_exporter": "python",
   "pygments_lexer": "ipython3",
   "version": "3.7.4"
  }
 },
 "nbformat": 4,
 "nbformat_minor": 2
}
