{
 "cells": [
  {
   "cell_type": "code",
   "execution_count": 81,
   "metadata": {},
   "outputs": [],
   "source": [
    "import numpy as np\n",
    "import pandas as pd\n",
    "import matplotlib.pyplot as plt\n",
    "import sklearn.linear_model\n",
    "#estandarizacion:\n",
    "import sklearn.preprocessing \n",
    "from numpy import linalg as LA\n",
    "%matplotlib inline"
   ]
  },
  {
   "cell_type": "code",
   "execution_count": 63,
   "metadata": {},
   "outputs": [],
   "source": [
    "data = pd.read_csv('USArrests.csv')\n",
    "data2 = pd.read_csv('Cars93.csv')"
   ]
  },
  {
   "cell_type": "code",
   "execution_count": 94,
   "metadata": {},
   "outputs": [
    {
     "data": {
      "text/plain": [
       "array([[ 13.2, 236. ,  58. ,  21.2],\n",
       "       [ 10. , 263. ,  48. ,  44.5],\n",
       "       [  8.1, 294. ,  80. ,  31. ],\n",
       "       [  8.8, 190. ,  50. ,  19.5],\n",
       "       [  9. , 276. ,  91. ,  40.6],\n",
       "       [  7.9, 204. ,  78. ,  38.7],\n",
       "       [  3.3, 110. ,  77. ,  11.1],\n",
       "       [  5.9, 238. ,  72. ,  15.8],\n",
       "       [ 15.4, 335. ,  80. ,  31.9],\n",
       "       [ 17.4, 211. ,  60. ,  25.8],\n",
       "       [  5.3,  46. ,  83. ,  20.2],\n",
       "       [  2.6, 120. ,  54. ,  14.2],\n",
       "       [ 10.4, 249. ,  83. ,  24. ],\n",
       "       [  7.2, 113. ,  65. ,  21. ],\n",
       "       [  2.2,  56. ,  57. ,  11.3],\n",
       "       [  6. , 115. ,  66. ,  18. ],\n",
       "       [  9.7, 109. ,  52. ,  16.3],\n",
       "       [ 15.4, 249. ,  66. ,  22.2],\n",
       "       [  2.1,  83. ,  51. ,   7.8],\n",
       "       [ 11.3, 300. ,  67. ,  27.8],\n",
       "       [  4.4, 149. ,  85. ,  16.3],\n",
       "       [ 12.1, 255. ,  74. ,  35.1],\n",
       "       [  2.7,  72. ,  66. ,  14.9],\n",
       "       [ 16.1, 259. ,  44. ,  17.1],\n",
       "       [  9. , 178. ,  70. ,  28.2],\n",
       "       [  6. , 109. ,  53. ,  16.4],\n",
       "       [  4.3, 102. ,  62. ,  16.5],\n",
       "       [ 12.2, 252. ,  81. ,  46. ],\n",
       "       [  2.1,  57. ,  56. ,   9.5],\n",
       "       [  7.4, 159. ,  89. ,  18.8],\n",
       "       [ 11.4, 285. ,  70. ,  32.1],\n",
       "       [ 11.1, 254. ,  86. ,  26.1],\n",
       "       [ 13. , 337. ,  45. ,  16.1],\n",
       "       [  0.8,  45. ,  44. ,   7.3],\n",
       "       [  7.3, 120. ,  75. ,  21.4],\n",
       "       [  6.6, 151. ,  68. ,  20. ],\n",
       "       [  4.9, 159. ,  67. ,  29.3],\n",
       "       [  6.3, 106. ,  72. ,  14.9],\n",
       "       [  3.4, 174. ,  87. ,   8.3],\n",
       "       [ 14.4, 279. ,  48. ,  22.5],\n",
       "       [  3.8,  86. ,  45. ,  12.8],\n",
       "       [ 13.2, 188. ,  59. ,  26.9],\n",
       "       [ 12.7, 201. ,  80. ,  25.5],\n",
       "       [  3.2, 120. ,  80. ,  22.9],\n",
       "       [  2.2,  48. ,  32. ,  11.2],\n",
       "       [  8.5, 156. ,  63. ,  20.7],\n",
       "       [  4. , 145. ,  73. ,  26.2],\n",
       "       [  5.7,  81. ,  39. ,   9.3],\n",
       "       [  2.6,  53. ,  66. ,  10.8],\n",
       "       [  6.8, 161. ,  60. ,  15.6]])"
      ]
     },
     "execution_count": 94,
     "metadata": {},
     "output_type": "execute_result"
    }
   ],
   "source": [
    "#print(np.shape(data))\n",
    "#print(data[1:3])\n",
    "columns=data.keys()\n",
    "columns=['Murder', 'Assault', 'UrbanPop', 'Rape']\n",
    "x=np.array(data[columns])#[:,1:]\n",
    "states=np.array(data[columns])[:,0]\n",
    "#print(np.concatenate((x[:,0],x[:,0])))\n",
    "#print(x)\n",
    "#x[:,0]\n",
    "#xx=np.zeros((len(x),4))\n",
    "#for i in range(len(x)):\n",
    " #   for j in range(4):\n",
    "  #      xx[i,j]=x[i,j]\n",
    "#print(x)\n",
    "#x"
   ]
  },
  {
   "cell_type": "code",
   "execution_count": 95,
   "metadata": {},
   "outputs": [
    {
     "name": "stdout",
     "output_type": "stream",
     "text": [
      "(93, 11)\n"
     ]
    }
   ],
   "source": [
    "y2 = np.array(data2['Price'])\n",
    "columns = ['MPG.city', 'MPG.highway', 'EngineSize', 'Horsepower', 'RPM', 'Rev.per.mile', \n",
    "          'Fuel.tank.capacity', 'Length', 'Width', 'Turn.circle', 'Weight']\n",
    "x2 = np.array(data2[columns])\n",
    "#print(x2)\n",
    "print(np.shape(x2))"
   ]
  },
  {
   "cell_type": "code",
   "execution_count": 99,
   "metadata": {},
   "outputs": [],
   "source": [
    "sig1=np.cov(x)\n",
    "sig2=np.cov(x2)"
   ]
  },
  {
   "cell_type": "code",
   "execution_count": 100,
   "metadata": {},
   "outputs": [],
   "source": [
    "w1, v1=LA.eig(sig1)\n",
    "w2, v2=LA.eig(sig2)"
   ]
  },
  {
   "cell_type": "code",
   "execution_count": 117,
   "metadata": {},
   "outputs": [
    {
     "name": "stdout",
     "output_type": "stream",
     "text": [
      "[3.42072890e+05+0.00000000e+00j 9.39560277e+03+0.00000000e+00j\n",
      " 4.23892342e+02+0.00000000e+00j 1.26877020e-11+2.99835202e-12j]\n"
     ]
    }
   ],
   "source": [
    "print(w1[0:4])"
   ]
  },
  {
   "cell_type": "code",
   "execution_count": 124,
   "metadata": {},
   "outputs": [
    {
     "name": "stderr",
     "output_type": "stream",
     "text": [
      "/home/john/anaconda3/lib/python3.7/site-packages/ipykernel_launcher.py:4: ComplexWarning: Casting complex values to real discards the imaginary part\n",
      "  after removing the cwd from sys.path.\n",
      "/home/john/anaconda3/lib/python3.7/site-packages/ipykernel_launcher.py:5: ComplexWarning: Casting complex values to real discards the imaginary part\n",
      "  \"\"\"\n"
     ]
    },
    {
     "data": {
      "text/plain": [
       "array([[-2.81067676e-01, -3.39418187e-01],\n",
       "       [-1.31831245e-01, -3.38792748e-01],\n",
       "       [ 1.86655930e-01, -7.86374952e-01],\n",
       "       [-4.83952736e-04,  1.61398935e-01],\n",
       "       [-4.83952736e-04,  1.61398935e-01],\n",
       "       [-4.91170923e-01,  5.51889297e-02],\n",
       "       [-4.91170923e-01,  5.51889297e-02],\n",
       "       [ 1.39982450e-01,  5.44554159e-02],\n",
       "       [ 1.47360830e-01,  6.97711644e-02],\n",
       "       [ 1.24751461e-01, -4.65384968e-02],\n",
       "       [ 1.36357676e-01, -1.65417956e-02],\n",
       "       [-1.00921600e-01, -8.40730916e-03],\n",
       "       [-1.00921600e-01, -8.40730916e-03],\n",
       "       [ 4.72479860e-02, -6.42765364e-03],\n",
       "       [ 4.15600504e-02,  2.94019109e-02],\n",
       "       [ 1.03265858e-01,  8.49469164e-03],\n",
       "       [ 1.03265858e-01,  8.49469164e-03],\n",
       "       [-7.89457242e-03,  3.14546346e-02],\n",
       "       [ 8.33931218e-02,  3.07229985e-02],\n",
       "       [ 2.96383258e-02,  2.55652757e-03],\n",
       "       [ 2.04990291e-02, -2.64814223e-02],\n",
       "       [ 2.04990291e-02, -2.64814223e-02],\n",
       "       [-2.29437209e-02,  3.04324473e-02],\n",
       "       [-3.81434639e-02,  4.61504784e-03],\n",
       "       [-3.81434639e-02,  4.61504784e-03],\n",
       "       [ 9.28153510e-02,  3.34165222e-02],\n",
       "       [-1.88954143e-02,  1.73934900e-02],\n",
       "       [ 1.09301236e-01,  3.96726487e-02],\n",
       "       [ 1.03707462e-01,  3.18968231e-02],\n",
       "       [-2.68812871e-02,  9.24817229e-03],\n",
       "       [-2.68812871e-02,  9.24817229e-03],\n",
       "       [-4.25199223e-02, -1.49769284e-02],\n",
       "       [ 1.93459957e-02,  2.82938529e-02],\n",
       "       [ 2.64689921e-02,  2.30185396e-03],\n",
       "       [ 1.49161069e-02, -3.34180594e-03],\n",
       "       [ 3.25686739e-02,  2.44557853e-02],\n",
       "       [ 3.25686739e-02,  2.44557853e-02],\n",
       "       [-5.11019601e-02, -4.94475686e-02],\n",
       "       [-2.94158918e-02, -4.36192363e-02],\n",
       "       [ 7.58235979e-02,  4.13173943e-02],\n",
       "       [ 5.38458659e-03,  1.09296769e-03],\n",
       "       [ 2.74862163e-03, -8.51980419e-03],\n",
       "       [ 2.74862163e-03, -8.51980419e-03],\n",
       "       [-1.38923756e-03,  3.63072503e-02],\n",
       "       [-1.38923756e-03,  3.63072503e-02],\n",
       "       [-5.64019428e-02, -2.66941300e-02],\n",
       "       [ 5.73176981e-02,  2.88871162e-02],\n",
       "       [ 7.18466936e-02,  2.19189665e-02],\n",
       "       [ 7.17080289e-02,  5.95867792e-03],\n",
       "       [-1.97937630e-03, -9.55024504e-03]])"
      ]
     },
     "execution_count": 124,
     "metadata": {},
     "output_type": "execute_result"
    }
   ],
   "source": [
    "pca_v1=np.ones((50,2))\n",
    "pca_v2=np.ones((93,2))\n",
    "for i in range(2):\n",
    "    pca_v1[:,i]=v1[i]/LA.norm(v1[i])\n",
    "    pca_v2[:,i]=v2[i]/LA.norm(v1[i])\n",
    "pca_v1"
   ]
  },
  {
   "cell_type": "code",
   "execution_count": null,
   "metadata": {},
   "outputs": [],
   "source": [
    "plt.plot()\n",
    "#plt.scatter(X, Y)\n",
    "#plt.scatter(X_scaled[:,3], lasso.predict(X_scaled), marker='^')\n",
    "#plt.xlabel(columns[3])\n",
    "#plt.ylabel('Price')\n",
    "quiver([0, 0], pca_v1[0], V, [C], **kw)\n"
   ]
  }
 ],
 "metadata": {
  "kernelspec": {
   "display_name": "Python 3",
   "language": "python",
   "name": "python3"
  },
  "language_info": {
   "codemirror_mode": {
    "name": "ipython",
    "version": 3
   },
   "file_extension": ".py",
   "mimetype": "text/x-python",
   "name": "python",
   "nbconvert_exporter": "python",
   "pygments_lexer": "ipython3",
   "version": "3.7.4"
  }
 },
 "nbformat": 4,
 "nbformat_minor": 2
}
