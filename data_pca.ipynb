{
 "cells": [
  {
   "cell_type": "code",
   "execution_count": 1,
   "metadata": {},
   "outputs": [],
   "source": [
    "import numpy as np\n",
    "import pandas as pd\n",
    "import matplotlib.pyplot as plt\n",
    "import sklearn.linear_model\n",
    "#estandarizacion:\n",
    "import sklearn.preprocessing \n",
    "from numpy import linalg as LA\n",
    "%matplotlib inline"
   ]
  },
  {
   "cell_type": "code",
   "execution_count": 2,
   "metadata": {},
   "outputs": [],
   "source": [
    "data = pd.read_csv('USArrests.csv')\n",
    "data2 = pd.read_csv('Cars93.csv')"
   ]
  },
  {
   "cell_type": "code",
   "execution_count": 3,
   "metadata": {},
   "outputs": [],
   "source": [
    "#print(np.shape(data))\n",
    "#print(data[1:3])\n",
    "columns=data.keys()\n",
    "columns=['Murder', 'Assault', 'UrbanPop', 'Rape']\n",
    "x=np.array(data[columns])#[:,1:]\n",
    "states=np.array(data[columns])[:,0]\n",
    "#print(np.concatenate((x[:,0],x[:,0])))\n",
    "#print(x)\n",
    "#x[:,0]\n",
    "#xx=np.zeros((len(x),4))\n",
    "#for i in range(len(x)):\n",
    " #   for j in range(4):\n",
    "  #      xx[i,j]=x[i,j]\n",
    "#print(x)\n",
    "#x"
   ]
  },
  {
   "cell_type": "code",
   "execution_count": 4,
   "metadata": {},
   "outputs": [
    {
     "name": "stdout",
     "output_type": "stream",
     "text": [
      "(93, 11)\n"
     ]
    }
   ],
   "source": [
    "y2 = np.array(data2['Price'])\n",
    "columns = ['MPG.city', 'MPG.highway', 'EngineSize', 'Horsepower', 'RPM', 'Rev.per.mile', \n",
    "          'Fuel.tank.capacity', 'Length', 'Width', 'Turn.circle', 'Weight']\n",
    "x2 = np.array(data2[columns])\n",
    "#print(x2)\n",
    "print(np.shape(x2))"
   ]
  },
  {
   "cell_type": "code",
   "execution_count": 5,
   "metadata": {},
   "outputs": [],
   "source": [
    "sig1=np.cov(x)\n",
    "sig2=np.cov(x2)"
   ]
  },
  {
   "cell_type": "code",
   "execution_count": 6,
   "metadata": {},
   "outputs": [],
   "source": [
    "w1, v1=LA.eig(sig1)\n",
    "w2, v2=LA.eig(sig2)"
   ]
  },
  {
   "cell_type": "code",
   "execution_count": 7,
   "metadata": {},
   "outputs": [
    {
     "name": "stdout",
     "output_type": "stream",
     "text": [
      "[3.42072890e+05+0.00000000e+00j 9.39560277e+03+0.00000000e+00j\n",
      " 4.23892342e+02+0.00000000e+00j 1.26877020e-11+2.99835202e-12j]\n"
     ]
    }
   ],
   "source": [
    "print(w1[0:4])"
   ]
  },
  {
   "cell_type": "code",
   "execution_count": 8,
   "metadata": {},
   "outputs": [
    {
     "name": "stderr",
     "output_type": "stream",
     "text": [
      "/home/john/anaconda3/lib/python3.7/site-packages/ipykernel_launcher.py:4: ComplexWarning: Casting complex values to real discards the imaginary part\n",
      "  after removing the cwd from sys.path.\n",
      "/home/john/anaconda3/lib/python3.7/site-packages/ipykernel_launcher.py:5: ComplexWarning: Casting complex values to real discards the imaginary part\n",
      "  \"\"\"\n"
     ]
    }
   ],
   "source": [
    "pca_v1=np.ones((2,4))\n",
    "pca_v2=np.ones((2,4))\n",
    "for i in range(2):\n",
    "    pca_v1[i]=v1[i,:4]/LA.norm(v1[i,:4])\n",
    "    pca_v2[i]=v2[i,:4]/LA.norm(v2[i,:4])\n",
    "#pca_v1[:,0]\n",
    "#v1[0,:4]"
   ]
  },
  {
   "cell_type": "code",
   "execution_count": 9,
   "metadata": {},
   "outputs": [
    {
     "data": {
      "text/plain": [
       "<matplotlib.quiver.Quiver at 0x7fba16303590>"
      ]
     },
     "execution_count": 9,
     "metadata": {},
     "output_type": "execute_result"
    },
    {
     "data": {
      "image/png": "[encoded data removed]",
      "text/plain": [
       "<Figure size 432x288 with 1 Axes>"
      ]
     },
     "metadata": {
      "needs_background": "light"
     },
     "output_type": "display_data"
    }
   ],
   "source": [
    "plt.plot()\n",
    "#plt.scatter(X, Y)\n",
    "#plt.scatter(X_scaled[:,3], lasso.predict(X_scaled), marker='^')\n",
    "#plt.xlabel(columns[3])\n",
    "#plt.ylabel('Price')\n",
    "#plt.quiver([0, 0], pca_v1[:,0])\n",
    "plt.quiver([0, 0], 30)\n",
    "plt.arrow()"
   ]
  },
  {
   "cell_type": "code",
   "execution_count": 10,
   "metadata": {},
   "outputs": [
    {
     "data": {
      "text/plain": [
       "0.9818"
      ]
     },
     "execution_count": 10,
     "metadata": {},
     "output_type": "execute_result"
    }
   ],
   "source": [
    "0.53**2+0.58**2+0.27**2+0.54**2"
   ]
  },
  {
   "cell_type": "code",
   "execution_count": 11,
   "metadata": {},
   "outputs": [
    {
     "data": {
      "text/plain": [
       "-0.7755361149452165"
      ]
     },
     "execution_count": 11,
     "metadata": {},
     "output_type": "execute_result"
    }
   ],
   "source": [
    "pca_v1[0,0]"
   ]
  },
  {
   "cell_type": "code",
   "execution_count": 12,
   "metadata": {},
   "outputs": [
    {
     "data": {
      "text/plain": [
       "array([-0.77553611, -0.36054825])"
      ]
     },
     "execution_count": 12,
     "metadata": {},
     "output_type": "execute_result"
    }
   ],
   "source": [
    " pca_v1[:,0]"
   ]
  },
  {
   "cell_type": "code",
   "execution_count": null,
   "metadata": {},
   "outputs": [],
   "source": []
  }
 ],
 "metadata": {
  "kernelspec": {
   "display_name": "Python 3",
   "language": "python",
   "name": "python3"
  },
  "language_info": {
   "codemirror_mode": {
    "name": "ipython",
    "version": 3
   },
   "file_extension": ".py",
   "mimetype": "text/x-python",
   "name": "python",
   "nbconvert_exporter": "python",
   "pygments_lexer": "ipython3",
   "version": "3.7.4"
  }
 },
 "nbformat": 4,
 "nbformat_minor": 2
}
